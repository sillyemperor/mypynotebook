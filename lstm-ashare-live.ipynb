{
 "cells": [
  {
   "cell_type": "markdown",
   "metadata": {},
   "source": [
    "数据网站，http://quotes.money.163.com/stock\n",
    "\n",
    "下载交易历史数据：http://quotes.money.163.com/cjmx/2019/20191120/1300127.xls\n",
    "，获得一个SCV文件。结构如下：\n",
    "成交时间,成交价,价格变动,成交量（手）,成交额（元）,性质\n",
    "09:30:06,17.2,-0.05,50,86011,卖盘\n",
    "09:30:09,17.21,0.01,887,1525626,买盘\n",
    "大概每3秒一条记录。"
   ]
  },
  {
   "cell_type": "markdown",
   "metadata": {
    "colab_type": "text",
    "id": "xSItPJipBaZ5"
   },
   "source": [
    "## Library"
   ]
  },
  {
   "cell_type": "code",
   "execution_count": 4,
   "metadata": {
    "colab": {},
    "colab_type": "code",
    "id": "wb-Z7wNKUJko"
   },
   "outputs": [],
   "source": [
    "import numpy as np\n",
    "import matplotlib.pyplot as plt\n",
    "import pandas as pd\n",
    "import torch\n",
    "import torch.nn as nn\n",
    "from torch.autograd import Variable\n",
    "from sklearn.preprocessing import MinMaxScaler\n",
    "from datetime import datetime\n"
   ]
  },
  {
   "cell_type": "markdown",
   "metadata": {
    "colab_type": "text",
    "id": "e31mswiSBEEB"
   },
   "source": [
    "## Data Plot"
   ]
  },
  {
   "cell_type": "code",
   "execution_count": 5,
   "metadata": {
    "colab": {
     "base_uri": "https://localhost:8080/",
     "height": 269
    },
    "colab_type": "code",
    "id": "ooQPXSYhA_ps",
    "outputId": "5b7b33c9-a80c-429d-f8a5-5c8c79261b54",
    "scrolled": false
   },
   "outputs": [
    {
     "name": "stderr",
     "output_type": "stream",
     "text": [
      "/Users/wj/项目/langstudy/python/py3study/venv/lib/python3.7/site-packages/pandas/plotting/_matplotlib/converter.py:103: FutureWarning: Using an implicitly registered datetime converter for a matplotlib plotting method. The converter was registered by pandas on import. Future versions of pandas will require you to explicitly register matplotlib converters.\n",
      "\n",
      "To register the converters:\n",
      "\t>>> from pandas.plotting import register_matplotlib_converters\n",
      "\t>>> register_matplotlib_converters()\n",
      "  warnings.warn(msg, FutureWarning)\n"
     ]
    },
    {
     "data": {
      "image/png": "[encoded data removed]",
      "text/plain": [
       "<Figure size 432x288 with 1 Axes>"
      ]
     },
     "metadata": {
      "needs_background": "light"
     },
     "output_type": "display_data"
    }
   ],
   "source": [
    "data = pd.read_csv('data/ashare/30012720191120.csv', usecols = [0, 1, 3], converters={\n",
    "    0:lambda x:datetime.strptime(x, '%H:%M:%S')\n",
    "})\n",
    "# print(data)\n",
    "\n",
    "training_set = data.iloc[:,1].values\n",
    "timeline = data.iloc[:,0].values\n",
    "\n",
    "plt.plot(timeline, training_set, )\n",
    "\n",
    "plt.show()"
   ]
  },
  {
   "cell_type": "code",
   "execution_count": 6,
   "metadata": {},
   "outputs": [],
   "source": [
    "def local_price(file):\n",
    "    data = pd.read_csv(file, usecols=[0, 1, 3], converters={\n",
    "        0: lambda x: datetime.strptime(x, '%H:%M:%S')\n",
    "    })\n",
    "\n",
    "    for i in data.iloc[:,1].values:\n",
    "        yield i"
   ]
  },
  {
   "cell_type": "code",
   "execution_count": 7,
   "metadata": {
    "scrolled": true
   },
   "outputs": [],
   "source": [
    "from stock import train, sliding_windows, predict, LSTM\n",
    "import time\n",
    "\n",
    "loader = local_price('data/ashare/30012720191120.csv')\n",
    "\n",
    "num_epochs = 100\n",
    "\n",
    "num_classes = 3\n",
    "seq_length = 12\n",
    "\n",
    "input_size = 1\n",
    "hidden_size = 2\n",
    "num_layers = 1\n",
    "\n",
    "lstm = LSTM(num_classes, input_size, hidden_size, num_layers, seq_length)\n",
    "\n",
    "sc = MinMaxScaler()\n",
    "\n",
    "bucket = []\n",
    "data = []\n",
    "predict_y = None\n",
    "aloss_list = []\n",
    "loss_list = []\n",
    "x_list = []\n",
    "y_list = []\n",
    "for price in loader:\n",
    "\n",
    "    bucket.append([float(price)])\n",
    "    # print(bucket, data)\n",
    "    if len(bucket) >= seq_length:\n",
    "        data.append(bucket)\n",
    "        \n",
    "        if len(data) > 1:\n",
    "            if predict_y is not None:\n",
    "                x = torch.tensor(predict_y)\n",
    "                y = torch.tensor(bucket[:num_classes]).view(-1)\n",
    "                loss = y - x\n",
    "                aloss = loss.sum()/num_classes\n",
    "                \n",
    "                loss_list += list(loss.view(-1).numpy())\n",
    "                x_list += list(x.view(-1).numpy())\n",
    "                y_list += list(y.view(-1).numpy())\n",
    "                aloss_list.append(aloss)\n",
    "\n",
    "                # print(x)\n",
    "#                 print(y)\n",
    "#                 print(aloss, elapsed)\n",
    "#                 print()\n",
    "\n",
    "            t1 = time.time()\n",
    "            training_data = torch.Tensor(data)\n",
    "            training_data = sc.fit_transform(training_data.view(-1, 1))\n",
    "            # training_data = torch.Tensor([training_data])\n",
    "\n",
    "            x, y = sliding_windows(training_data, seq_length, num_classes)\n",
    "            trainX = torch.Tensor(np.array(x))\n",
    "            trainY = torch.Tensor(np.array(y))\n",
    "\n",
    "            loss = train(lstm, num_epochs, num_classes, trainX, trainY)\n",
    "            elapsed = time.time() - t1\n",
    "\n",
    "            predict_data = data[-1]\n",
    "            predict_y = predict(lstm, predict_data)\n",
    "#             print(predict_y)\n",
    "\n",
    "        bucket = bucket[num_classes:]\n"
   ]
  },
  {
   "cell_type": "code",
   "execution_count": 7,
   "metadata": {
    "scrolled": false
   },
   "outputs": [
    {
     "data": {
      "image/png": "[encoded data removed]",
      "text/plain": [
       "<Figure size 432x288 with 2 Axes>"
      ]
     },
     "metadata": {
      "needs_background": "light"
     },
     "output_type": "display_data"
    }
   ],
   "source": [
    "plt.subplot(2,1,1)\n",
    "plt.plot(loss_list, )\n",
    "plt.subplot(2,1,2)\n",
    "plt.plot(x_list, )\n",
    "plt.plot(y_list, )\n",
    "plt.show()"
   ]
  },
  {
   "cell_type": "code",
   "execution_count": null,
   "metadata": {},
   "outputs": [],
   "source": []
  }
 ],
 "metadata": {
  "accelerator": "GPU",
  "colab": {
   "include_colab_link": true,
   "name": "Time Series Prediction with LSTM Using PyTorch",
   "provenance": [],
   "toc_visible": true,
   "version": "0.3.2"
  },
  "kernelspec": {
   "display_name": "Python 3",
   "language": "python",
   "name": "python3"
  },
  "language_info": {
   "codemirror_mode": {
    "name": "ipython",
    "version": 3
   },
   "file_extension": ".py",
   "mimetype": "text/x-python",
   "name": "python",
   "nbconvert_exporter": "python",
   "pygments_lexer": "ipython3",
   "version": "3.7.3"
  }
 },
 "nbformat": 4,
 "nbformat_minor": 1
}

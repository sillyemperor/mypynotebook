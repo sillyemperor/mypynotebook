{
 "cells": [
  {
   "cell_type": "markdown",
   "metadata": {
    "colab_type": "text",
    "id": "xSItPJipBaZ5"
   },
   "source": [
    "## Library"
   ]
  },
  {
   "cell_type": "code",
   "execution_count": 62,
   "metadata": {
    "colab": {},
    "colab_type": "code",
    "id": "wb-Z7wNKUJko"
   },
   "outputs": [],
   "source": [
    "import numpy as np\n",
    "import matplotlib.pyplot as plt\n",
    "import pandas as pd\n",
    "import torch\n",
    "import torch.nn as nn\n",
    "from torch.autograd import Variable\n",
    "from sklearn.preprocessing import MinMaxScaler\n",
    "from datetime import datetime\n"
   ]
  },
  {
   "cell_type": "markdown",
   "metadata": {
    "colab_type": "text",
    "id": "e31mswiSBEEB"
   },
   "source": [
    "## Data Plot"
   ]
  },
  {
   "cell_type": "code",
   "execution_count": 63,
   "metadata": {
    "colab": {
     "base_uri": "https://localhost:8080/",
     "height": 269
    },
    "colab_type": "code",
    "id": "ooQPXSYhA_ps",
    "outputId": "5b7b33c9-a80c-429d-f8a5-5c8c79261b54",
    "scrolled": false
   },
   "outputs": [
    {
     "data": {
      "image/png": "[encoded data removed]",
      "text/plain": [
       "<Figure size 432x288 with 1 Axes>"
      ]
     },
     "metadata": {
      "needs_background": "light"
     },
     "output_type": "display_data"
    }
   ],
   "source": [
    "data = pd.read_excel('data/gas-sales/station1.xls')\n",
    "# print(data)\n",
    "# data = data.sort_index(ascending=False)\n",
    "\n",
    "training_set = data.iloc[:,1].values\n",
    "timeline = data.iloc[:,0].values\n",
    "\n",
    "\n",
    "plt.plot(timeline, training_set, )\n",
    "\n",
    "plt.show()"
   ]
  },
  {
   "cell_type": "code",
   "execution_count": 69,
   "metadata": {
    "colab": {},
    "colab_type": "code",
    "id": "vIWvJCpOVmwU",
    "scrolled": false
   },
   "outputs": [
    {
     "name": "stdout",
     "output_type": "stream",
     "text": [
      "[64874 46919 48312 ... 39967 43137 42271]\n",
      "(1781, 1)\n",
      "(1776, 4, 1)\n",
      "(1776, 1, 1)\n",
      "torch.Size([1189, 4, 1])\n",
      "torch.Size([1189, 1, 1])\n",
      "torch.Size([587, 4, 1])\n",
      "torch.Size([587, 1, 1])\n"
     ]
    }
   ],
   "source": [
    "def sliding_windows(data, seq_length, d):\n",
    "    xx = []\n",
    "    yy = []\n",
    "    for i in range(len(data)-seq_length-d):\n",
    "        _x = data[i:(i+seq_length)]\n",
    "        _y = data[(i+seq_length):(i+seq_length+d)]\n",
    "        xx.append(_x)\n",
    "        yy.append(_y)\n",
    "    return np.array(xx), np.array(yy)\n",
    "\n",
    "sc = MinMaxScaler()\n",
    "print(training_set)\n",
    "training_data = sc.fit_transform(training_set.reshape(-1, 1))\n",
    "print(training_data.shape)\n",
    "\n",
    "num_classes = 1\n",
    "seq_length = 4\n",
    "\n",
    "x, y = sliding_windows(training_data, seq_length, num_classes)\n",
    "print(x.shape)\n",
    "print(y.shape)\n",
    "\n",
    "train_size = int(len(y) * 0.67)\n",
    "test_size = len(y) - train_size\n",
    "\n",
    "dataX = Variable(torch.Tensor(np.array(x)))\n",
    "dataY = Variable(torch.Tensor(np.array(y)))\n",
    "\n",
    "trainX = Variable(torch.Tensor(np.array(x[0:train_size])))\n",
    "trainY = Variable(torch.Tensor(np.array(y[0:train_size])))\n",
    "print(trainX.shape)\n",
    "print(trainY.shape)\n",
    "\n",
    "testX = Variable(torch.Tensor(np.array(x[train_size:len(x)])))\n",
    "testY = Variable(torch.Tensor(np.array(y[train_size:len(y)])))\n",
    "print(testX.shape)\n",
    "print(testY.shape)\n",
    "\n",
    "# print(training_data)\n",
    "# print(trainX)\n",
    "# print(trainY)"
   ]
  },
  {
   "cell_type": "markdown",
   "metadata": {
    "colab_type": "text",
    "id": "--1LVbHOBSIy"
   },
   "source": [
    "## Model"
   ]
  },
  {
   "cell_type": "code",
   "execution_count": 70,
   "metadata": {
    "colab": {},
    "colab_type": "code",
    "id": "_BcDEjcABRVz"
   },
   "outputs": [],
   "source": [
    "class LSTM(nn.Module):\n",
    "\n",
    "    def __init__(self, num_classes, input_size, hidden_size, num_layers):\n",
    "        super(LSTM, self).__init__()\n",
    "        \n",
    "        self.num_classes = num_classes\n",
    "        self.num_layers = num_layers\n",
    "        self.input_size = input_size\n",
    "        self.hidden_size = hidden_size\n",
    "        self.seq_length = seq_length\n",
    "        \n",
    "        self.lstm = nn.LSTM(input_size=input_size, hidden_size=hidden_size,\n",
    "                            num_layers=num_layers, batch_first=True)\n",
    "        \n",
    "        self.fc = nn.Linear(hidden_size, num_classes)\n",
    "\n",
    "    def forward(self, x):\n",
    "        h_0 = Variable(torch.zeros(\n",
    "            self.num_layers, x.size(0), self.hidden_size))\n",
    "        \n",
    "        c_0 = Variable(torch.zeros(\n",
    "            self.num_layers, x.size(0), self.hidden_size))\n",
    "        \n",
    "        # Propagate input through LSTM\n",
    "        ula, (h_out, _) = self.lstm(x)#, (h_0, c_0))\n",
    "        \n",
    "        h_out = h_out.view(-1, self.hidden_size)\n",
    "        \n",
    "        out = self.fc(h_out)\n",
    "        \n",
    "        return out"
   ]
  },
  {
   "cell_type": "markdown",
   "metadata": {
    "colab_type": "text",
    "id": "tdzFI5GJBUF5"
   },
   "source": [
    "## Training"
   ]
  },
  {
   "cell_type": "code",
   "execution_count": 71,
   "metadata": {
    "colab": {
     "base_uri": "https://localhost:8080/",
     "height": 357
    },
    "colab_type": "code",
    "id": "a2vvHeFgVtCp",
    "outputId": "5fa2cd4c-dcc4-41aa-d7bc-cb16154ff134",
    "scrolled": true
   },
   "outputs": [
    {
     "name": "stdout",
     "output_type": "stream",
     "text": [
      "Epoch: 0, train-loss: 0.25179, test-loss: 0.13100\n",
      "Epoch: 500, train-loss: 0.00622, test-loss: 0.00434\n",
      "Epoch: 1000, train-loss: 0.00608, test-loss: 0.00419\n",
      "Epoch: 1500, train-loss: 0.00603, test-loss: 0.00418\n",
      "Epoch: 2000, train-loss: 0.00598, test-loss: 0.00408\n",
      "Epoch: 2500, train-loss: 0.00596, test-loss: 0.00400\n",
      "Epoch: 3000, train-loss: 0.00594, test-loss: 0.00396\n",
      "Epoch: 3500, train-loss: 0.00592, test-loss: 0.00395\n"
     ]
    }
   ],
   "source": [
    "num_epochs = 4000\n",
    "learning_rate = 0.01\n",
    "\n",
    "\n",
    "input_size = 1\n",
    "hidden_size = 2\n",
    "num_layers = 1\n",
    "\n",
    "lstm = LSTM(num_classes, input_size, hidden_size, num_layers)\n",
    "\n",
    "criterion = torch.nn.MSELoss()    # mean-squared error for regression\n",
    "optimizer = torch.optim.Adam(lstm.parameters(), lr=learning_rate)\n",
    "#optimizer = torch.optim.SGD(lstm.parameters(), lr=learning_rate)\n",
    "\n",
    "# Train the model\n",
    "for epoch in range(num_epochs):\n",
    "    outputs = lstm(trainX)\n",
    "    optimizer.zero_grad()\n",
    "    outputs = outputs.view(-1, num_classes, 1)\n",
    "#     print(outputs, trainY)\n",
    "    # obtain the loss function\n",
    "    loss = criterion(outputs, trainY)\n",
    "    \n",
    "    loss.backward()\n",
    "    \n",
    "    optimizer.step()\n",
    "    if epoch % 500 == 0:\n",
    "        with torch.no_grad():\n",
    "            outputs = lstm(testX)\n",
    "            outputs = outputs.view(-1, num_classes, 1)\n",
    "            loss_test = criterion(outputs, testY)\n",
    "\n",
    "        print(\"Epoch: %d, train-loss: %1.5f, test-loss: %1.5f\" % (epoch, loss.item(), loss_test.item()))"
   ]
  },
  {
   "cell_type": "code",
   "execution_count": 74,
   "metadata": {
    "colab": {
     "base_uri": "https://localhost:8080/",
     "height": 294
    },
    "colab_type": "code",
    "id": "jFrPVG5sesWY",
    "outputId": "080fecbc-7cec-496d-e753-01371109f123"
   },
   "outputs": [
    {
     "data": {
      "image/png": "[encoded data removed]",
      "text/plain": [
       "<Figure size 432x288 with 1 Axes>"
      ]
     },
     "metadata": {
      "needs_background": "light"
     },
     "output_type": "display_data"
    }
   ],
   "source": [
    "lstm.eval()\n",
    "train_predict = lstm(dataX)\n",
    "train_predict = train_predict.view(-1, 1)\n",
    "dataY = dataY.view(-1, 1)\n",
    "\n",
    "data_predict = train_predict.data.numpy()\n",
    "dataY_plot = dataY.data.numpy()\n",
    "# print(dataY_plot)\n",
    "data_predict = sc.inverse_transform(data_predict)\n",
    "dataY_plot = sc.inverse_transform(dataY_plot)\n",
    "# print(len(dataY_plot[:, 0]))\n",
    "\n",
    "tx, ty = sliding_windows(timeline, seq_length, num_classes)\n",
    "\n",
    "plt.axvline(x=ty[train_size], c='r', linestyle='--')\n",
    "\n",
    "plt.plot(ty, dataY_plot, )\n",
    "plt.plot(ty, data_predict)\n",
    "plt.suptitle('Time-Series Prediction')\n",
    "plt.show()"
   ]
  },
  {
   "cell_type": "code",
   "execution_count": 75,
   "metadata": {},
   "outputs": [
    {
     "name": "stdout",
     "output_type": "stream",
     "text": [
      "tensor([[[0.4166],\n",
      "         [0.4118],\n",
      "         [0.3632],\n",
      "         [0.3825]]])\n",
      "[[42098.797]]\n"
     ]
    }
   ],
   "source": [
    "lstm.eval()\n",
    "\n",
    "d = torch.tensor([x[-1]], dtype=torch.float32)\n",
    "print(d)\n",
    "\n",
    "predict = lstm(d)\n",
    "predict=sc.inverse_transform(predict.data.numpy())\n",
    "print(predict)"
   ]
  },
  {
   "cell_type": "code",
   "execution_count": null,
   "metadata": {},
   "outputs": [],
   "source": [
    "实际49396"
   ]
  }
 ],
 "metadata": {
  "accelerator": "GPU",
  "colab": {
   "include_colab_link": true,
   "name": "Time Series Prediction with LSTM Using PyTorch",
   "provenance": [],
   "toc_visible": true,
   "version": "0.3.2"
  },
  "kernelspec": {
   "display_name": "Python 3",
   "language": "python",
   "name": "python3"
  },
  "language_info": {
   "codemirror_mode": {
    "name": "ipython",
    "version": 3
   },
   "file_extension": ".py",
   "mimetype": "text/x-python",
   "name": "python",
   "nbconvert_exporter": "python",
   "pygments_lexer": "ipython3",
   "version": "3.7.3"
  }
 },
 "nbformat": 4,
 "nbformat_minor": 1
}

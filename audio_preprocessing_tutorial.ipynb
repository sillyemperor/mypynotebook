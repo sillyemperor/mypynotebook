{
 "cells": [
  {
   "cell_type": "code",
   "execution_count": 1,
   "metadata": {},
   "outputs": [],
   "source": [
    "%matplotlib inline"
   ]
  },
  {
   "cell_type": "markdown",
   "metadata": {},
   "source": [
    "\n",
    "torchaudio Tutorial\n",
    "===================\n",
    "\n",
    "PyTorch is an open source deep learning platform that provides a\n",
    "seamless path from research prototyping to production deployment with\n",
    "GPU support.\n",
    "\n",
    "Significant effort in solving machine learning problems goes into data\n",
    "preparation. ``torchaudio`` leverages PyTorch’s GPU support, and provides\n",
    "many tools to make data loading easy and more readable. In this\n",
    "tutorial, we will see how to load and preprocess data from a simple\n",
    "dataset.\n",
    "\n",
    "For this tutorial, please make sure the ``matplotlib`` package is\n",
    "installed for easier visualization.\n",
    "\n",
    "\n"
   ]
  },
  {
   "cell_type": "code",
   "execution_count": 2,
   "metadata": {},
   "outputs": [],
   "source": [
    "import torch\n",
    "import torchaudio\n",
    "import matplotlib.pyplot as plt"
   ]
  },
  {
   "cell_type": "markdown",
   "metadata": {},
   "source": [
    "Opening a dataset\n",
    "-----------------\n",
    "\n",
    "\n"
   ]
  },
  {
   "cell_type": "markdown",
   "metadata": {},
   "source": [
    "torchaudio supports loading sound files in the wav and mp3 format. We\n",
    "call waveform the resulting raw audio signal.\n",
    "\n",
    "\n"
   ]
  },
  {
   "cell_type": "code",
   "execution_count": 6,
   "metadata": {},
   "outputs": [
    {
     "name": "stdout",
     "output_type": "stream",
     "text": [
      "Shape of waveform: torch.Size([2, 276858])\n",
      "Sample rate of waveform: 44100\n"
     ]
    },
    {
     "data": {
      "text/plain": [
       "[<matplotlib.lines.Line2D at 0x119b61c50>,\n",
       " <matplotlib.lines.Line2D at 0x11c31c208>]"
      ]
     },
     "execution_count": 6,
     "metadata": {},
     "output_type": "execute_result"
    },
    {
     "data": {
      "image/png": "[encoded data removed]",
      "text/plain": [
       "<Figure size 432x288 with 1 Axes>"
      ]
     },
     "metadata": {
      "needs_background": "light"
     },
     "output_type": "display_data"
    }
   ],
   "source": [
    "filename = \"data/steam-train-whistle-daniel_simon-converted-from-mp3.wav\"\n",
    "waveform, sample_rate = torchaudio.load(filename)\n",
    "\n",
    "print(\"Shape of waveform: {}\".format(waveform.size()))\n",
    "print(\"Sample rate of waveform: {}\".format(sample_rate))\n",
    "\n",
    "plt.figure()\n",
    "plt.plot(waveform.t().numpy())"
   ]
  },
  {
   "cell_type": "markdown",
   "metadata": {},
   "source": [
    "Transformations\n",
    "---------------\n",
    "\n",
    "torchaudio supports a growing list of\n",
    "`transformations <https://pytorch.org/audio/transforms.html>`_.\n",
    "\n",
    "-  **Resample**: Resample waveform to a different sample rate.\n",
    "-  **Spectrogram**: Create a spectrogram from a waveform.\n",
    "-  **MelScale**: This turns a normal STFT into a Mel-frequency STFT,\n",
    "   using a conversion matrix.\n",
    "-  **AmplitudeToDB**: This turns a spectrogram from the\n",
    "   power/amplitude scale to the decibel scale.\n",
    "-  **MFCC**: Create the Mel-frequency cepstrum coefficients from a\n",
    "   waveform.\n",
    "-  **MelSpectrogram**: Create MEL Spectrograms from a waveform using the\n",
    "   STFT function in PyTorch.\n",
    "-  **MuLawEncoding**: Encode waveform based on mu-law companding.\n",
    "-  **MuLawDecoding**: Decode mu-law encoded waveform.\n",
    "\n",
    "Since all transforms are nn.Modules or jit.ScriptModules, they can be\n",
    "used as part of a neural network at any point.\n",
    "\n",
    "\n"
   ]
  },
  {
   "cell_type": "markdown",
   "metadata": {},
   "source": [
    "To start, we can look at the log of the spectrogram on a log scale.\n",
    "\n",
    "\n"
   ]
  },
  {
   "cell_type": "code",
   "execution_count": 7,
   "metadata": {},
   "outputs": [
    {
     "ename": "RuntimeError",
     "evalue": "RuntimeError: fft: ATen not compiled with MKL support\n\nAt:\n  /Users/wj/项目/langstudy/python/py3study/venv/lib/python3.7/site-packages/torch/functional.py(380): stft\n  /Users/wj/项目/langstudy/python/py3study/venv/lib/python3.7/site-packages/torchaudio/functional.py(25): _stft\n  /Users/wj/项目/langstudy/python/py3study/venv/lib/python3.7/site-packages/torch/nn/modules/module.py(547): __call__\n  <ipython-input-7-4d8f5121b536>(1): <module>\n  /Users/wj/项目/langstudy/python/py3study/venv/lib/python3.7/site-packages/IPython/core/interactiveshell.py(3326): run_code\n  /Users/wj/项目/langstudy/python/py3study/venv/lib/python3.7/site-packages/IPython/core/interactiveshell.py(3249): run_ast_nodes\n  /Users/wj/项目/langstudy/python/py3study/venv/lib/python3.7/site-packages/IPython/core/interactiveshell.py(3058): run_cell_async\n  /Users/wj/项目/langstudy/python/py3study/venv/lib/python3.7/site-packages/IPython/core/async_helpers.py(68): _pseudo_sync_runner\n  /Users/wj/项目/langstudy/python/py3study/venv/lib/python3.7/site-packages/IPython/core/interactiveshell.py(2881): _run_cell\n  /Users/wj/项目/langstudy/python/py3study/venv/lib/python3.7/site-packages/IPython/core/interactiveshell.py(2855): run_cell\n  /Users/wj/项目/langstudy/python/py3study/venv/lib/python3.7/site-packages/ipykernel/zmqshell.py(536): run_cell\n  /Users/wj/项目/langstudy/python/py3study/venv/lib/python3.7/site-packages/ipykernel/ipkernel.py(294): do_execute\n  /Users/wj/项目/langstudy/python/py3study/venv/lib/python3.7/site-packages/tornado/gen.py(209): wrapper\n  /Users/wj/项目/langstudy/python/py3study/venv/lib/python3.7/site-packages/ipykernel/kernelbase.py(542): execute_request\n  /Users/wj/项目/langstudy/python/py3study/venv/lib/python3.7/site-packages/tornado/gen.py(209): wrapper\n  /Users/wj/项目/langstudy/python/py3study/venv/lib/python3.7/site-packages/ipykernel/kernelbase.py(272): dispatch_shell\n  /Users/wj/项目/langstudy/python/py3study/venv/lib/python3.7/site-packages/tornado/gen.py(209): wrapper\n  /Users/wj/项目/langstudy/python/py3study/venv/lib/python3.7/site-packages/ipykernel/kernelbase.py(365): process_one\n  /Users/wj/项目/langstudy/python/py3study/venv/lib/python3.7/site-packages/tornado/gen.py(748): run\n  /Users/wj/项目/langstudy/python/py3study/venv/lib/python3.7/site-packages/tornado/gen.py(787): inner\n  /Users/wj/项目/langstudy/python/py3study/venv/lib/python3.7/site-packages/tornado/ioloop.py(743): _run_callback\n  /Users/wj/项目/langstudy/python/py3study/venv/lib/python3.7/site-packages/tornado/ioloop.py(690): <lambda>\n  /Library/Frameworks/Python.framework/Versions/3.7/lib/python3.7/asyncio/events.py(88): _run\n  /Library/Frameworks/Python.framework/Versions/3.7/lib/python3.7/asyncio/base_events.py(1775): _run_once\n  /Library/Frameworks/Python.framework/Versions/3.7/lib/python3.7/asyncio/base_events.py(539): run_forever\n  /Users/wj/项目/langstudy/python/py3study/venv/lib/python3.7/site-packages/tornado/platform/asyncio.py(148): start\n  /Users/wj/项目/langstudy/python/py3study/venv/lib/python3.7/site-packages/ipykernel/kernelapp.py(563): start\n  /Users/wj/项目/langstudy/python/py3study/venv/lib/python3.7/site-packages/traitlets/config/application.py(664): launch_instance\n  /Users/wj/项目/langstudy/python/py3study/venv/lib/python3.7/site-packages/ipykernel_launcher.py(16): <module>\n  /Library/Frameworks/Python.framework/Versions/3.7/lib/python3.7/runpy.py(85): _run_code\n  /Library/Frameworks/Python.framework/Versions/3.7/lib/python3.7/runpy.py(193): _run_module_as_main\n\nThe above operation failed in interpreter, with the following stack trace:\nat /Users/wj/项目/langstudy/python/py3study/venv/lib/python3.7/site-packages/torchaudio/functional.py:203:14\n        Fourier bins, and time is the number of window hops (n_frames).\n    \"\"\"\n    assert waveform.dim() == 2\n\n    if pad > 0:\n        # TODO add \"with torch.no_grad():\" back when JIT supports it\n        waveform = torch.nn.functional.pad(waveform, (pad, pad), \"constant\")\n\n    # default values are consistent with librosa.core.spectrum._spectrogram\n    spec_f = _stft(waveform, n_fft, hop_length, win_length, window,\n             ~~~~~ <--- HERE\n                   True, 'reflect', False, True)\n\n    if normalized:\n        spec_f /= window.pow(2).sum().sqrt()\n    spec_f = spec_f.pow(power).sum(-1)  # get power of \"complex\" tensor\n    return spec_f\n",
     "output_type": "error",
     "traceback": [
      "\u001b[0;31m---------------------------------------------------------------------------\u001b[0m",
      "\u001b[0;31mRuntimeError\u001b[0m                              Traceback (most recent call last)",
      "\u001b[0;32m<ipython-input-7-4d8f5121b536>\u001b[0m in \u001b[0;36m<module>\u001b[0;34m\u001b[0m\n\u001b[0;32m----> 1\u001b[0;31m \u001b[0mspecgram\u001b[0m \u001b[0;34m=\u001b[0m \u001b[0mtorchaudio\u001b[0m\u001b[0;34m.\u001b[0m\u001b[0mtransforms\u001b[0m\u001b[0;34m.\u001b[0m\u001b[0mSpectrogram\u001b[0m\u001b[0;34m(\u001b[0m\u001b[0;34m)\u001b[0m\u001b[0;34m(\u001b[0m\u001b[0mwaveform\u001b[0m\u001b[0;34m)\u001b[0m\u001b[0;34m\u001b[0m\u001b[0;34m\u001b[0m\u001b[0m\n\u001b[0m\u001b[1;32m      2\u001b[0m \u001b[0;34m\u001b[0m\u001b[0m\n\u001b[1;32m      3\u001b[0m \u001b[0mprint\u001b[0m\u001b[0;34m(\u001b[0m\u001b[0;34m\"Shape of spectrogram: {}\"\u001b[0m\u001b[0;34m.\u001b[0m\u001b[0mformat\u001b[0m\u001b[0;34m(\u001b[0m\u001b[0mspecgram\u001b[0m\u001b[0;34m.\u001b[0m\u001b[0msize\u001b[0m\u001b[0;34m(\u001b[0m\u001b[0;34m)\u001b[0m\u001b[0;34m)\u001b[0m\u001b[0;34m)\u001b[0m\u001b[0;34m\u001b[0m\u001b[0;34m\u001b[0m\u001b[0m\n\u001b[1;32m      4\u001b[0m \u001b[0;34m\u001b[0m\u001b[0m\n\u001b[1;32m      5\u001b[0m \u001b[0mplt\u001b[0m\u001b[0;34m.\u001b[0m\u001b[0mfigure\u001b[0m\u001b[0;34m(\u001b[0m\u001b[0;34m)\u001b[0m\u001b[0;34m\u001b[0m\u001b[0;34m\u001b[0m\u001b[0m\n",
      "\u001b[0;32m~/项目/langstudy/python/py3study/venv/lib/python3.7/site-packages/torch/nn/modules/module.py\u001b[0m in \u001b[0;36m__call__\u001b[0;34m(self, *input, **kwargs)\u001b[0m\n\u001b[1;32m    545\u001b[0m             \u001b[0mresult\u001b[0m \u001b[0;34m=\u001b[0m \u001b[0mself\u001b[0m\u001b[0;34m.\u001b[0m\u001b[0m_slow_forward\u001b[0m\u001b[0;34m(\u001b[0m\u001b[0;34m*\u001b[0m\u001b[0minput\u001b[0m\u001b[0;34m,\u001b[0m \u001b[0;34m**\u001b[0m\u001b[0mkwargs\u001b[0m\u001b[0;34m)\u001b[0m\u001b[0;34m\u001b[0m\u001b[0;34m\u001b[0m\u001b[0m\n\u001b[1;32m    546\u001b[0m         \u001b[0;32melse\u001b[0m\u001b[0;34m:\u001b[0m\u001b[0;34m\u001b[0m\u001b[0;34m\u001b[0m\u001b[0m\n\u001b[0;32m--> 547\u001b[0;31m             \u001b[0mresult\u001b[0m \u001b[0;34m=\u001b[0m \u001b[0mself\u001b[0m\u001b[0;34m.\u001b[0m\u001b[0mforward\u001b[0m\u001b[0;34m(\u001b[0m\u001b[0;34m*\u001b[0m\u001b[0minput\u001b[0m\u001b[0;34m,\u001b[0m \u001b[0;34m**\u001b[0m\u001b[0mkwargs\u001b[0m\u001b[0;34m)\u001b[0m\u001b[0;34m\u001b[0m\u001b[0;34m\u001b[0m\u001b[0m\n\u001b[0m\u001b[1;32m    548\u001b[0m         \u001b[0;32mfor\u001b[0m \u001b[0mhook\u001b[0m \u001b[0;32min\u001b[0m \u001b[0mself\u001b[0m\u001b[0;34m.\u001b[0m\u001b[0m_forward_hooks\u001b[0m\u001b[0;34m.\u001b[0m\u001b[0mvalues\u001b[0m\u001b[0;34m(\u001b[0m\u001b[0;34m)\u001b[0m\u001b[0;34m:\u001b[0m\u001b[0;34m\u001b[0m\u001b[0;34m\u001b[0m\u001b[0m\n\u001b[1;32m    549\u001b[0m             \u001b[0mhook_result\u001b[0m \u001b[0;34m=\u001b[0m \u001b[0mhook\u001b[0m\u001b[0;34m(\u001b[0m\u001b[0mself\u001b[0m\u001b[0;34m,\u001b[0m \u001b[0minput\u001b[0m\u001b[0;34m,\u001b[0m \u001b[0mresult\u001b[0m\u001b[0;34m)\u001b[0m\u001b[0;34m\u001b[0m\u001b[0;34m\u001b[0m\u001b[0m\n",
      "\u001b[0;31mRuntimeError\u001b[0m: RuntimeError: fft: ATen not compiled with MKL support\n\nAt:\n  /Users/wj/项目/langstudy/python/py3study/venv/lib/python3.7/site-packages/torch/functional.py(380): stft\n  /Users/wj/项目/langstudy/python/py3study/venv/lib/python3.7/site-packages/torchaudio/functional.py(25): _stft\n  /Users/wj/项目/langstudy/python/py3study/venv/lib/python3.7/site-packages/torch/nn/modules/module.py(547): __call__\n  <ipython-input-7-4d8f5121b536>(1): <module>\n  /Users/wj/项目/langstudy/python/py3study/venv/lib/python3.7/site-packages/IPython/core/interactiveshell.py(3326): run_code\n  /Users/wj/项目/langstudy/python/py3study/venv/lib/python3.7/site-packages/IPython/core/interactiveshell.py(3249): run_ast_nodes\n  /Users/wj/项目/langstudy/python/py3study/venv/lib/python3.7/site-packages/IPython/core/interactiveshell.py(3058): run_cell_async\n  /Users/wj/项目/langstudy/python/py3study/venv/lib/python3.7/site-packages/IPython/core/async_helpers.py(68): _pseudo_sync_runner\n  /Users/wj/项目/langstudy/python/py3study/venv/lib/python3.7/site-packages/IPython/core/interactiveshell.py(2881): _run_cell\n  /Users/wj/项目/langstudy/python/py3study/venv/lib/python3.7/site-packages/IPython/core/interactiveshell.py(2855): run_cell\n  /Users/wj/项目/langstudy/python/py3study/venv/lib/python3.7/site-packages/ipykernel/zmqshell.py(536): run_cell\n  /Users/wj/项目/langstudy/python/py3study/venv/lib/python3.7/site-packages/ipykernel/ipkernel.py(294): do_execute\n  /Users/wj/项目/langstudy/python/py3study/venv/lib/python3.7/site-packages/tornado/gen.py(209): wrapper\n  /Users/wj/项目/langstudy/python/py3study/venv/lib/python3.7/site-packages/ipykernel/kernelbase.py(542): execute_request\n  /Users/wj/项目/langstudy/python/py3study/venv/lib/python3.7/site-packages/tornado/gen.py(209): wrapper\n  /Users/wj/项目/langstudy/python/py3study/venv/lib/python3.7/site-packages/ipykernel/kernelbase.py(272): dispatch_shell\n  /Users/wj/项目/langstudy/python/py3study/venv/lib/python3.7/site-packages/tornado/gen.py(209): wrapper\n  /Users/wj/项目/langstudy/python/py3study/venv/lib/python3.7/site-packages/ipykernel/kernelbase.py(365): process_one\n  /Users/wj/项目/langstudy/python/py3study/venv/lib/python3.7/site-packages/tornado/gen.py(748): run\n  /Users/wj/项目/langstudy/python/py3study/venv/lib/python3.7/site-packages/tornado/gen.py(787): inner\n  /Users/wj/项目/langstudy/python/py3study/venv/lib/python3.7/site-packages/tornado/ioloop.py(743): _run_callback\n  /Users/wj/项目/langstudy/python/py3study/venv/lib/python3.7/site-packages/tornado/ioloop.py(690): <lambda>\n  /Library/Frameworks/Python.framework/Versions/3.7/lib/python3.7/asyncio/events.py(88): _run\n  /Library/Frameworks/Python.framework/Versions/3.7/lib/python3.7/asyncio/base_events.py(1775): _run_once\n  /Library/Frameworks/Python.framework/Versions/3.7/lib/python3.7/asyncio/base_events.py(539): run_forever\n  /Users/wj/项目/langstudy/python/py3study/venv/lib/python3.7/site-packages/tornado/platform/asyncio.py(148): start\n  /Users/wj/项目/langstudy/python/py3study/venv/lib/python3.7/site-packages/ipykernel/kernelapp.py(563): start\n  /Users/wj/项目/langstudy/python/py3study/venv/lib/python3.7/site-packages/traitlets/config/application.py(664): launch_instance\n  /Users/wj/项目/langstudy/python/py3study/venv/lib/python3.7/site-packages/ipykernel_launcher.py(16): <module>\n  /Library/Frameworks/Python.framework/Versions/3.7/lib/python3.7/runpy.py(85): _run_code\n  /Library/Frameworks/Python.framework/Versions/3.7/lib/python3.7/runpy.py(193): _run_module_as_main\n\nThe above operation failed in interpreter, with the following stack trace:\nat /Users/wj/项目/langstudy/python/py3study/venv/lib/python3.7/site-packages/torchaudio/functional.py:203:14\n        Fourier bins, and time is the number of window hops (n_frames).\n    \"\"\"\n    assert waveform.dim() == 2\n\n    if pad > 0:\n        # TODO add \"with torch.no_grad():\" back when JIT supports it\n        waveform = torch.nn.functional.pad(waveform, (pad, pad), \"constant\")\n\n    # default values are consistent with librosa.core.spectrum._spectrogram\n    spec_f = _stft(waveform, n_fft, hop_length, win_length, window,\n             ~~~~~ <--- HERE\n                   True, 'reflect', False, True)\n\n    if normalized:\n        spec_f /= window.pow(2).sum().sqrt()\n    spec_f = spec_f.pow(power).sum(-1)  # get power of \"complex\" tensor\n    return spec_f\n"
     ]
    }
   ],
   "source": [
    "specgram = torchaudio.transforms.Spectrogram()(waveform)\n",
    "\n",
    "print(\"Shape of spectrogram: {}\".format(specgram.size()))\n",
    "\n",
    "plt.figure()\n",
    "plt.imshow(specgram.log2()[0,:,:].numpy(), cmap='gray')"
   ]
  },
  {
   "cell_type": "markdown",
   "metadata": {},
   "source": [
    "Or we can look at the Mel Spectrogram on a log scale.\n",
    "\n",
    "\n"
   ]
  },
  {
   "cell_type": "code",
   "execution_count": null,
   "metadata": {},
   "outputs": [],
   "source": [
    "specgram = torchaudio.transforms.MelSpectrogram()(waveform)\n",
    "\n",
    "print(\"Shape of spectrogram: {}\".format(specgram.size()))\n",
    "\n",
    "plt.figure()\n",
    "p = plt.imshow(specgram.log2()[0,:,:].detach().numpy(), cmap='gray')"
   ]
  },
  {
   "cell_type": "markdown",
   "metadata": {},
   "source": [
    "We can resample the waveform, one channel at a time.\n",
    "\n",
    "\n"
   ]
  },
  {
   "cell_type": "code",
   "execution_count": null,
   "metadata": {},
   "outputs": [],
   "source": [
    "new_sample_rate = sample_rate/10\n",
    "\n",
    "# Since Resample applies to a single channel, we resample first channel here\n",
    "channel = 0\n",
    "transformed = torchaudio.transforms.Resample(sample_rate, new_sample_rate)(waveform[channel,:].view(1,-1))\n",
    "\n",
    "print(\"Shape of transformed waveform: {}\".format(transformed.size()))\n",
    "\n",
    "plt.figure()\n",
    "plt.plot(transformed[0,:].numpy())"
   ]
  },
  {
   "cell_type": "markdown",
   "metadata": {},
   "source": [
    "As another example of transformations, we can encode the signal based on\n",
    "Mu-Law enconding. But to do so, we need the signal to be between -1 and\n",
    "1. Since the tensor is just a regular PyTorch tensor, we can apply\n",
    "standard operators on it.\n",
    "\n",
    "\n"
   ]
  },
  {
   "cell_type": "code",
   "execution_count": null,
   "metadata": {},
   "outputs": [],
   "source": [
    "# Let's check if the tensor is in the interval [-1,1]\n",
    "print(\"Min of waveform: {}\\nMax of waveform: {}\\nMean of waveform: {}\".format(waveform.min(), waveform.max(), waveform.mean()))"
   ]
  },
  {
   "cell_type": "markdown",
   "metadata": {},
   "source": [
    "Since the waveform is already between -1 and 1, we do not need to\n",
    "normalize it.\n",
    "\n",
    "\n"
   ]
  },
  {
   "cell_type": "code",
   "execution_count": null,
   "metadata": {},
   "outputs": [],
   "source": [
    "def normalize(tensor):\n",
    "    # Subtract the mean, and scale to the interval [-1,1]\n",
    "    tensor_minusmean = tensor - tensor.mean()\n",
    "    return tensor_minusmean/tensor_minusmean.abs().max()\n",
    "\n",
    "# Let's normalize to the full interval [-1,1]\n",
    "# waveform = normalize(waveform)"
   ]
  },
  {
   "cell_type": "markdown",
   "metadata": {},
   "source": [
    "Let’s apply encode the waveform.\n",
    "\n",
    "\n"
   ]
  },
  {
   "cell_type": "code",
   "execution_count": null,
   "metadata": {},
   "outputs": [],
   "source": [
    "transformed = torchaudio.transforms.MuLawEncoding()(waveform)\n",
    "\n",
    "print(\"Shape of transformed waveform: {}\".format(transformed.size()))\n",
    "\n",
    "plt.figure()\n",
    "plt.plot(transformed[0,:].numpy())"
   ]
  },
  {
   "cell_type": "markdown",
   "metadata": {},
   "source": [
    "And now decode.\n",
    "\n",
    "\n"
   ]
  },
  {
   "cell_type": "code",
   "execution_count": null,
   "metadata": {},
   "outputs": [],
   "source": [
    "reconstructed = torchaudio.transforms.MuLawDecoding()(transformed)\n",
    "\n",
    "print(\"Shape of recovered waveform: {}\".format(reconstructed.size()))\n",
    "\n",
    "plt.figure()\n",
    "plt.plot(reconstructed[0,:].numpy())"
   ]
  },
  {
   "cell_type": "markdown",
   "metadata": {},
   "source": [
    "We can finally compare the original waveform with its reconstructed\n",
    "version.\n",
    "\n",
    "\n"
   ]
  },
  {
   "cell_type": "code",
   "execution_count": null,
   "metadata": {},
   "outputs": [],
   "source": [
    "# Compute median relative difference\n",
    "err = ((waveform-reconstructed).abs() / waveform.abs()).median()\n",
    "\n",
    "print(\"Median relative difference between original and MuLaw reconstucted signals: {:.2%}\".format(err))"
   ]
  },
  {
   "cell_type": "markdown",
   "metadata": {},
   "source": [
    "Migrating to torchaudio from Kaldi\n",
    "----------------------------------\n",
    "\n",
    "Users may be familiar with\n",
    "`Kaldi <http://github.com/kaldi-asr/kaldi>`_, a toolkit for speech\n",
    "recognition. torchaudio offers compatibility with it in\n",
    "``torchaudio.kaldi_io``. It can indeed read from kaldi scp, or ark file\n",
    "or streams with:\n",
    "\n",
    "-  read_vec_int_ark\n",
    "-  read_vec_flt_scp\n",
    "-  read_vec_flt_arkfile/stream\n",
    "-  read_mat_scp\n",
    "-  read_mat_ark\n",
    "\n",
    "torchaudio provides Kaldi-compatible transforms for ``spectrogram`` and\n",
    "``fbank`` with the benefit of GPU support, see\n",
    "`here <compliance.kaldi.html>`__ for more information.\n",
    "\n",
    "\n"
   ]
  },
  {
   "cell_type": "code",
   "execution_count": null,
   "metadata": {},
   "outputs": [],
   "source": [
    "n_fft = 400.0\n",
    "frame_length = n_fft / sample_rate * 1000.0\n",
    "frame_shift = frame_length / 2.0\n",
    "\n",
    "params = {\n",
    "    \"channel\": 0,\n",
    "    \"dither\": 0.0,\n",
    "    \"window_type\": \"hanning\",\n",
    "    \"frame_length\": frame_length,\n",
    "    \"frame_shift\": frame_shift,\n",
    "    \"remove_dc_offset\": False,\n",
    "    \"round_to_power_of_two\": False,\n",
    "    \"sample_frequency\": sample_rate,\n",
    "}\n",
    "\n",
    "specgram = torchaudio.compliance.kaldi.spectrogram(waveform, **params)\n",
    "\n",
    "print(\"Shape of spectrogram: {}\".format(specgram.size()))\n",
    "\n",
    "plt.figure()\n",
    "plt.imshow(specgram.t().numpy(), cmap='gray')"
   ]
  },
  {
   "cell_type": "markdown",
   "metadata": {},
   "source": [
    "We also support computing the filterbank features from waveforms,\n",
    "matching Kaldi’s implementation.\n",
    "\n",
    "\n"
   ]
  },
  {
   "cell_type": "code",
   "execution_count": null,
   "metadata": {},
   "outputs": [],
   "source": [
    "fbank = torchaudio.compliance.kaldi.fbank(waveform, **params)\n",
    "\n",
    "print(\"Shape of fbank: {}\".format(fbank.size()))\n",
    "\n",
    "plt.figure()\n",
    "plt.imshow(fbank.t().numpy(), cmap='gray')"
   ]
  },
  {
   "cell_type": "markdown",
   "metadata": {},
   "source": [
    "Conclusion\n",
    "----------\n",
    "\n",
    "We used an example raw audio signal, or waveform, to illustrate how to\n",
    "open an audio file using torchaudio, and how to pre-process and\n",
    "transform such waveform. Given that torchaudio is built on PyTorch,\n",
    "these techniques can be used as building blocks for more advanced audio\n",
    "applications, such as speech recognition, while leveraging GPUs.\n",
    "\n",
    "\n"
   ]
  }
 ],
 "metadata": {
  "kernelspec": {
   "display_name": "Python 3",
   "language": "python",
   "name": "python3"
  },
  "language_info": {
   "codemirror_mode": {
    "name": "ipython",
    "version": 3
   },
   "file_extension": ".py",
   "mimetype": "text/x-python",
   "name": "python",
   "nbconvert_exporter": "python",
   "pygments_lexer": "ipython3",
   "version": "3.7.3"
  }
 },
 "nbformat": 4,
 "nbformat_minor": 1
}
